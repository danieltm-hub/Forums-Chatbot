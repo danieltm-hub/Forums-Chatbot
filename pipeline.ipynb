{
 "cells": [
  {
   "cell_type": "code",
   "execution_count": null,
   "metadata": {},
   "outputs": [],
   "source": [
    "from src.crawler.crawler import main as crawl"
   ]
  },
  {
   "cell_type": "code",
   "execution_count": null,
   "metadata": {},
   "outputs": [],
   "source": [
    "first_url = \"https://us.forums.blizzard.com/en/wow/\"\n",
    "\n",
    "#Retrieve wether a url is visited or not\n",
    "visited_urls = set()\n",
    "\n",
    "crawl(first_page=first_url, visited_urls=visited_urls)"
   ]
  }
 ],
 "metadata": {
  "kernelspec": {
   "display_name": "Python 3",
   "language": "python",
   "name": "python3"
  },
  "language_info": {
   "name": "python",
   "version": "3.10.12"
  }
 },
 "nbformat": 4,
 "nbformat_minor": 2
}
